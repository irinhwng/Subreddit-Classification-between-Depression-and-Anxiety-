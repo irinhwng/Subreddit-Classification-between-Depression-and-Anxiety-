{
 "cells": [
  {
   "cell_type": "markdown",
   "metadata": {},
   "source": [
    "# Data Text Cleaning \n",
    "In this notebook, we will execute the following: \n",
    "- Remove HTML artifacts\n",
    "- Remove punctuation \n",
    "- Lowercase everything \n",
    "- Tokenize then Snowball all texts \n",
    "- Save cleaned df as csv"
   ]
  },
  {
   "cell_type": "code",
   "execution_count": 1,
   "metadata": {},
   "outputs": [],
   "source": [
    "import nltk"
   ]
  },
  {
   "cell_type": "code",
   "execution_count": 2,
   "metadata": {},
   "outputs": [],
   "source": [
    "from nltk.stem import SnowballStemmer\n",
    "from nltk.tokenize import RegexpTokenizer\n",
    "from bs4 import BeautifulSoup"
   ]
  },
  {
   "cell_type": "code",
   "execution_count": 3,
   "metadata": {},
   "outputs": [],
   "source": [
    "import pandas as pd"
   ]
  },
  {
   "cell_type": "code",
   "execution_count": 4,
   "metadata": {},
   "outputs": [],
   "source": [
    "df = pd.read_csv('./datasets/df.csv')"
   ]
  },
  {
   "cell_type": "code",
   "execution_count": 5,
   "metadata": {},
   "outputs": [
    {
     "data": {
      "text/plain": [
       "(1891, 3)"
      ]
     },
     "execution_count": 5,
     "metadata": {},
     "output_type": "execute_result"
    }
   ],
   "source": [
    "df.shape"
   ]
  },
  {
   "cell_type": "code",
   "execution_count": 6,
   "metadata": {},
   "outputs": [
    {
     "data": {
      "text/html": [
       "<div>\n",
       "<style scoped>\n",
       "    .dataframe tbody tr th:only-of-type {\n",
       "        vertical-align: middle;\n",
       "    }\n",
       "\n",
       "    .dataframe tbody tr th {\n",
       "        vertical-align: top;\n",
       "    }\n",
       "\n",
       "    .dataframe thead th {\n",
       "        text-align: right;\n",
       "    }\n",
       "</style>\n",
       "<table border=\"1\" class=\"dataframe\">\n",
       "  <thead>\n",
       "    <tr style=\"text-align: right;\">\n",
       "      <th></th>\n",
       "      <th>Unnamed: 0</th>\n",
       "      <th>subreddit</th>\n",
       "      <th>text</th>\n",
       "    </tr>\n",
       "  </thead>\n",
       "  <tbody>\n",
       "    <tr>\n",
       "      <th>0</th>\n",
       "      <td>0</td>\n",
       "      <td>1</td>\n",
       "      <td>We know that September 10 was World Suicide Pr...</td>\n",
       "    </tr>\n",
       "    <tr>\n",
       "      <th>1</th>\n",
       "      <td>1</td>\n",
       "      <td>1</td>\n",
       "      <td>Welcome to /r/depression's check-in post - a p...</td>\n",
       "    </tr>\n",
       "    <tr>\n",
       "      <th>2</th>\n",
       "      <td>2</td>\n",
       "      <td>1</td>\n",
       "      <td>I’m going to the movies. I’m so nervous… I’m w...</td>\n",
       "    </tr>\n",
       "    <tr>\n",
       "      <th>3</th>\n",
       "      <td>3</td>\n",
       "      <td>1</td>\n",
       "      <td>Now i can save so i can get myself out of this...</td>\n",
       "    </tr>\n",
       "    <tr>\n",
       "      <th>4</th>\n",
       "      <td>4</td>\n",
       "      <td>1</td>\n",
       "      <td>I always do this. I’ll stay up until the wee h...</td>\n",
       "    </tr>\n",
       "  </tbody>\n",
       "</table>\n",
       "</div>"
      ],
      "text/plain": [
       "   Unnamed: 0  subreddit                                               text\n",
       "0           0          1  We know that September 10 was World Suicide Pr...\n",
       "1           1          1  Welcome to /r/depression's check-in post - a p...\n",
       "2           2          1  I’m going to the movies. I’m so nervous… I’m w...\n",
       "3           3          1  Now i can save so i can get myself out of this...\n",
       "4           4          1  I always do this. I’ll stay up until the wee h..."
      ]
     },
     "execution_count": 6,
     "metadata": {},
     "output_type": "execute_result"
    }
   ],
   "source": [
    "df.head()"
   ]
  },
  {
   "cell_type": "markdown",
   "metadata": {},
   "source": [
    "### Removing HTML artifacts "
   ]
  },
  {
   "cell_type": "code",
   "execution_count": 7,
   "metadata": {},
   "outputs": [
    {
     "data": {
      "text/plain": [
       "\"We know that September 10 was World Suicide Prevention Day. And, we're all for activism. But not here, please and thank you. It takes focus away from our OPs in need of support and understanding.  Reminder: NO ACTIVISM is allowed here at any time.\""
      ]
     },
     "execution_count": 7,
     "metadata": {},
     "output_type": "execute_result"
    }
   ],
   "source": [
    "example1 = BeautifulSoup(df['text'][0])\n",
    "example1.get_text()"
   ]
  },
  {
   "cell_type": "code",
   "execution_count": 8,
   "metadata": {},
   "outputs": [],
   "source": [
    "#lets use beautiful soup to remove html language\n",
    "df['text'] = [BeautifulSoup(text).get_text() for text in df['text'] ]"
   ]
  },
  {
   "cell_type": "code",
   "execution_count": 9,
   "metadata": {},
   "outputs": [
    {
     "data": {
      "text/html": [
       "<div>\n",
       "<style scoped>\n",
       "    .dataframe tbody tr th:only-of-type {\n",
       "        vertical-align: middle;\n",
       "    }\n",
       "\n",
       "    .dataframe tbody tr th {\n",
       "        vertical-align: top;\n",
       "    }\n",
       "\n",
       "    .dataframe thead th {\n",
       "        text-align: right;\n",
       "    }\n",
       "</style>\n",
       "<table border=\"1\" class=\"dataframe\">\n",
       "  <thead>\n",
       "    <tr style=\"text-align: right;\">\n",
       "      <th></th>\n",
       "      <th>Unnamed: 0</th>\n",
       "      <th>subreddit</th>\n",
       "      <th>text</th>\n",
       "    </tr>\n",
       "  </thead>\n",
       "  <tbody>\n",
       "    <tr>\n",
       "      <th>0</th>\n",
       "      <td>0</td>\n",
       "      <td>1</td>\n",
       "      <td>We know that September 10 was World Suicide Pr...</td>\n",
       "    </tr>\n",
       "    <tr>\n",
       "      <th>1</th>\n",
       "      <td>1</td>\n",
       "      <td>1</td>\n",
       "      <td>Welcome to /r/depression's check-in post - a p...</td>\n",
       "    </tr>\n",
       "    <tr>\n",
       "      <th>2</th>\n",
       "      <td>2</td>\n",
       "      <td>1</td>\n",
       "      <td>I’m going to the movies. I’m so nervous… I’m w...</td>\n",
       "    </tr>\n",
       "    <tr>\n",
       "      <th>3</th>\n",
       "      <td>3</td>\n",
       "      <td>1</td>\n",
       "      <td>Now i can save so i can get myself out of this...</td>\n",
       "    </tr>\n",
       "    <tr>\n",
       "      <th>4</th>\n",
       "      <td>4</td>\n",
       "      <td>1</td>\n",
       "      <td>I always do this. I’ll stay up until the wee h...</td>\n",
       "    </tr>\n",
       "  </tbody>\n",
       "</table>\n",
       "</div>"
      ],
      "text/plain": [
       "   Unnamed: 0  subreddit                                               text\n",
       "0           0          1  We know that September 10 was World Suicide Pr...\n",
       "1           1          1  Welcome to /r/depression's check-in post - a p...\n",
       "2           2          1  I’m going to the movies. I’m so nervous… I’m w...\n",
       "3           3          1  Now i can save so i can get myself out of this...\n",
       "4           4          1  I always do this. I’ll stay up until the wee h..."
      ]
     },
     "execution_count": 9,
     "metadata": {},
     "output_type": "execute_result"
    }
   ],
   "source": [
    "df.head()"
   ]
  },
  {
   "cell_type": "markdown",
   "metadata": {},
   "source": [
    "## Tokenizing and Snowballing"
   ]
  },
  {
   "cell_type": "markdown",
   "metadata": {},
   "source": [
    "#### Let's Tokenize First"
   ]
  },
  {
   "cell_type": "code",
   "execution_count": 10,
   "metadata": {},
   "outputs": [],
   "source": [
    "#instntiate tokenizer\n",
    "tokenizer = RegexpTokenizer(r'\\w+') "
   ]
  },
  {
   "cell_type": "code",
   "execution_count": 11,
   "metadata": {},
   "outputs": [],
   "source": [
    "#instntiate snowballstemmer\n",
    "snow = SnowballStemmer(language = 'english')"
   ]
  },
  {
   "cell_type": "code",
   "execution_count": 12,
   "metadata": {},
   "outputs": [],
   "source": [
    "#shoutout to stack overflow \n",
    "#this code will tokenize then stem the lower case of text\n",
    "def snow_text(text):\n",
    "    return [snow.stem(w.lower()) for w in tokenizer.tokenize(text.replace(\"'\", \"\"))]  #add .replace(\"'\", \"\")\n",
    "\n",
    "\n",
    "df['snow_text'] = df['text'].apply(snow_text)"
   ]
  },
  {
   "cell_type": "code",
   "execution_count": 13,
   "metadata": {},
   "outputs": [
    {
     "data": {
      "text/html": [
       "<div>\n",
       "<style scoped>\n",
       "    .dataframe tbody tr th:only-of-type {\n",
       "        vertical-align: middle;\n",
       "    }\n",
       "\n",
       "    .dataframe tbody tr th {\n",
       "        vertical-align: top;\n",
       "    }\n",
       "\n",
       "    .dataframe thead th {\n",
       "        text-align: right;\n",
       "    }\n",
       "</style>\n",
       "<table border=\"1\" class=\"dataframe\">\n",
       "  <thead>\n",
       "    <tr style=\"text-align: right;\">\n",
       "      <th></th>\n",
       "      <th>Unnamed: 0</th>\n",
       "      <th>subreddit</th>\n",
       "      <th>text</th>\n",
       "      <th>snow_text</th>\n",
       "    </tr>\n",
       "  </thead>\n",
       "  <tbody>\n",
       "    <tr>\n",
       "      <th>0</th>\n",
       "      <td>0</td>\n",
       "      <td>1</td>\n",
       "      <td>We know that September 10 was World Suicide Pr...</td>\n",
       "      <td>[we, know, that, septemb, 10, was, world, suic...</td>\n",
       "    </tr>\n",
       "    <tr>\n",
       "      <th>1</th>\n",
       "      <td>1</td>\n",
       "      <td>1</td>\n",
       "      <td>Welcome to /r/depression's check-in post - a p...</td>\n",
       "      <td>[welcom, to, r, depress, check, in, post, a, p...</td>\n",
       "    </tr>\n",
       "    <tr>\n",
       "      <th>2</th>\n",
       "      <td>2</td>\n",
       "      <td>1</td>\n",
       "      <td>I’m going to the movies. I’m so nervous… I’m w...</td>\n",
       "      <td>[i, m, go, to, the, movi, i, m, so, nervous, i...</td>\n",
       "    </tr>\n",
       "    <tr>\n",
       "      <th>3</th>\n",
       "      <td>3</td>\n",
       "      <td>1</td>\n",
       "      <td>Now i can save so i can get myself out of this...</td>\n",
       "      <td>[now, i, can, save, so, i, can, get, myself, o...</td>\n",
       "    </tr>\n",
       "    <tr>\n",
       "      <th>4</th>\n",
       "      <td>4</td>\n",
       "      <td>1</td>\n",
       "      <td>I always do this. I’ll stay up until the wee h...</td>\n",
       "      <td>[i, alway, do, this, i, ll, stay, up, until, t...</td>\n",
       "    </tr>\n",
       "  </tbody>\n",
       "</table>\n",
       "</div>"
      ],
      "text/plain": [
       "   Unnamed: 0  subreddit                                               text  \\\n",
       "0           0          1  We know that September 10 was World Suicide Pr...   \n",
       "1           1          1  Welcome to /r/depression's check-in post - a p...   \n",
       "2           2          1  I’m going to the movies. I’m so nervous… I’m w...   \n",
       "3           3          1  Now i can save so i can get myself out of this...   \n",
       "4           4          1  I always do this. I’ll stay up until the wee h...   \n",
       "\n",
       "                                           snow_text  \n",
       "0  [we, know, that, septemb, 10, was, world, suic...  \n",
       "1  [welcom, to, r, depress, check, in, post, a, p...  \n",
       "2  [i, m, go, to, the, movi, i, m, so, nervous, i...  \n",
       "3  [now, i, can, save, so, i, can, get, myself, o...  \n",
       "4  [i, alway, do, this, i, ll, stay, up, until, t...  "
      ]
     },
     "execution_count": 13,
     "metadata": {},
     "output_type": "execute_result"
    }
   ],
   "source": [
    "df.head()"
   ]
  },
  {
   "cell_type": "code",
   "execution_count": 14,
   "metadata": {},
   "outputs": [
    {
     "data": {
      "text/plain": [
       "'I’m going to the movies. I’m so nervous… I’m willingly leaving my house for the first time in over 6 months'"
      ]
     },
     "execution_count": 14,
     "metadata": {},
     "output_type": "execute_result"
    }
   ],
   "source": [
    "df['text'][2].replace(\"'\", \"\")"
   ]
  },
  {
   "cell_type": "markdown",
   "metadata": {},
   "source": [
    "### Checking if it got Snowballed"
   ]
  },
  {
   "cell_type": "code",
   "execution_count": 15,
   "metadata": {},
   "outputs": [
    {
     "data": {
      "text/plain": [
       "'I’m going to the movies. I’m so nervous… I’m willingly leaving my house for the first time in over 6 months'"
      ]
     },
     "execution_count": 15,
     "metadata": {},
     "output_type": "execute_result"
    }
   ],
   "source": [
    "df['text'][2]"
   ]
  },
  {
   "cell_type": "code",
   "execution_count": 16,
   "metadata": {},
   "outputs": [
    {
     "data": {
      "text/plain": [
       "['i',\n",
       " 'm',\n",
       " 'go',\n",
       " 'to',\n",
       " 'the',\n",
       " 'movi',\n",
       " 'i',\n",
       " 'm',\n",
       " 'so',\n",
       " 'nervous',\n",
       " 'i',\n",
       " 'm',\n",
       " 'will',\n",
       " 'leav',\n",
       " 'my',\n",
       " 'hous',\n",
       " 'for',\n",
       " 'the',\n",
       " 'first',\n",
       " 'time',\n",
       " 'in',\n",
       " 'over',\n",
       " '6',\n",
       " 'month']"
      ]
     },
     "execution_count": 16,
     "metadata": {},
     "output_type": "execute_result"
    }
   ],
   "source": [
    "df['snow_text'][2]"
   ]
  },
  {
   "cell_type": "code",
   "execution_count": 17,
   "metadata": {},
   "outputs": [
    {
     "data": {
      "text/plain": [
       "(1891, 4)"
      ]
     },
     "execution_count": 17,
     "metadata": {},
     "output_type": "execute_result"
    }
   ],
   "source": [
    "df.shape"
   ]
  },
  {
   "cell_type": "code",
   "execution_count": 18,
   "metadata": {},
   "outputs": [
    {
     "data": {
      "text/html": [
       "<div>\n",
       "<style scoped>\n",
       "    .dataframe tbody tr th:only-of-type {\n",
       "        vertical-align: middle;\n",
       "    }\n",
       "\n",
       "    .dataframe tbody tr th {\n",
       "        vertical-align: top;\n",
       "    }\n",
       "\n",
       "    .dataframe thead th {\n",
       "        text-align: right;\n",
       "    }\n",
       "</style>\n",
       "<table border=\"1\" class=\"dataframe\">\n",
       "  <thead>\n",
       "    <tr style=\"text-align: right;\">\n",
       "      <th></th>\n",
       "      <th>Unnamed: 0</th>\n",
       "      <th>subreddit</th>\n",
       "      <th>text</th>\n",
       "      <th>snow_text</th>\n",
       "    </tr>\n",
       "  </thead>\n",
       "  <tbody>\n",
       "    <tr>\n",
       "      <th>0</th>\n",
       "      <td>0</td>\n",
       "      <td>1</td>\n",
       "      <td>We know that September 10 was World Suicide Pr...</td>\n",
       "      <td>[we, know, that, septemb, 10, was, world, suic...</td>\n",
       "    </tr>\n",
       "    <tr>\n",
       "      <th>1</th>\n",
       "      <td>1</td>\n",
       "      <td>1</td>\n",
       "      <td>Welcome to /r/depression's check-in post - a p...</td>\n",
       "      <td>[welcom, to, r, depress, check, in, post, a, p...</td>\n",
       "    </tr>\n",
       "    <tr>\n",
       "      <th>2</th>\n",
       "      <td>2</td>\n",
       "      <td>1</td>\n",
       "      <td>I’m going to the movies. I’m so nervous… I’m w...</td>\n",
       "      <td>[i, m, go, to, the, movi, i, m, so, nervous, i...</td>\n",
       "    </tr>\n",
       "    <tr>\n",
       "      <th>3</th>\n",
       "      <td>3</td>\n",
       "      <td>1</td>\n",
       "      <td>Now i can save so i can get myself out of this...</td>\n",
       "      <td>[now, i, can, save, so, i, can, get, myself, o...</td>\n",
       "    </tr>\n",
       "    <tr>\n",
       "      <th>4</th>\n",
       "      <td>4</td>\n",
       "      <td>1</td>\n",
       "      <td>I always do this. I’ll stay up until the wee h...</td>\n",
       "      <td>[i, alway, do, this, i, ll, stay, up, until, t...</td>\n",
       "    </tr>\n",
       "  </tbody>\n",
       "</table>\n",
       "</div>"
      ],
      "text/plain": [
       "   Unnamed: 0  subreddit                                               text  \\\n",
       "0           0          1  We know that September 10 was World Suicide Pr...   \n",
       "1           1          1  Welcome to /r/depression's check-in post - a p...   \n",
       "2           2          1  I’m going to the movies. I’m so nervous… I’m w...   \n",
       "3           3          1  Now i can save so i can get myself out of this...   \n",
       "4           4          1  I always do this. I’ll stay up until the wee h...   \n",
       "\n",
       "                                           snow_text  \n",
       "0  [we, know, that, septemb, 10, was, world, suic...  \n",
       "1  [welcom, to, r, depress, check, in, post, a, p...  \n",
       "2  [i, m, go, to, the, movi, i, m, so, nervous, i...  \n",
       "3  [now, i, can, save, so, i, can, get, myself, o...  \n",
       "4  [i, alway, do, this, i, ll, stay, up, until, t...  "
      ]
     },
     "execution_count": 18,
     "metadata": {},
     "output_type": "execute_result"
    }
   ],
   "source": [
    "df.head()"
   ]
  },
  {
   "cell_type": "code",
   "execution_count": 19,
   "metadata": {},
   "outputs": [],
   "source": [
    "#lets join each word in snow_text by spaces \n",
    "df['texty'] = [[' '.join(i)] for i in df['snow_text']]"
   ]
  },
  {
   "cell_type": "code",
   "execution_count": 20,
   "metadata": {},
   "outputs": [
    {
     "data": {
      "text/html": [
       "<div>\n",
       "<style scoped>\n",
       "    .dataframe tbody tr th:only-of-type {\n",
       "        vertical-align: middle;\n",
       "    }\n",
       "\n",
       "    .dataframe tbody tr th {\n",
       "        vertical-align: top;\n",
       "    }\n",
       "\n",
       "    .dataframe thead th {\n",
       "        text-align: right;\n",
       "    }\n",
       "</style>\n",
       "<table border=\"1\" class=\"dataframe\">\n",
       "  <thead>\n",
       "    <tr style=\"text-align: right;\">\n",
       "      <th></th>\n",
       "      <th>Unnamed: 0</th>\n",
       "      <th>subreddit</th>\n",
       "      <th>text</th>\n",
       "      <th>snow_text</th>\n",
       "      <th>texty</th>\n",
       "    </tr>\n",
       "  </thead>\n",
       "  <tbody>\n",
       "    <tr>\n",
       "      <th>0</th>\n",
       "      <td>0</td>\n",
       "      <td>1</td>\n",
       "      <td>We know that September 10 was World Suicide Pr...</td>\n",
       "      <td>[we, know, that, septemb, 10, was, world, suic...</td>\n",
       "      <td>[we know that septemb 10 was world suicid prev...</td>\n",
       "    </tr>\n",
       "  </tbody>\n",
       "</table>\n",
       "</div>"
      ],
      "text/plain": [
       "   Unnamed: 0  subreddit                                               text  \\\n",
       "0           0          1  We know that September 10 was World Suicide Pr...   \n",
       "\n",
       "                                           snow_text  \\\n",
       "0  [we, know, that, septemb, 10, was, world, suic...   \n",
       "\n",
       "                                               texty  \n",
       "0  [we know that septemb 10 was world suicid prev...  "
      ]
     },
     "execution_count": 20,
     "metadata": {},
     "output_type": "execute_result"
    }
   ],
   "source": [
    "df.head(1)"
   ]
  },
  {
   "cell_type": "code",
   "execution_count": 21,
   "metadata": {},
   "outputs": [],
   "source": [
    "#lets convert to string \n",
    "df['string'] = [str(i) for i in df['texty']]"
   ]
  },
  {
   "cell_type": "code",
   "execution_count": 22,
   "metadata": {},
   "outputs": [
    {
     "data": {
      "text/html": [
       "<div>\n",
       "<style scoped>\n",
       "    .dataframe tbody tr th:only-of-type {\n",
       "        vertical-align: middle;\n",
       "    }\n",
       "\n",
       "    .dataframe tbody tr th {\n",
       "        vertical-align: top;\n",
       "    }\n",
       "\n",
       "    .dataframe thead th {\n",
       "        text-align: right;\n",
       "    }\n",
       "</style>\n",
       "<table border=\"1\" class=\"dataframe\">\n",
       "  <thead>\n",
       "    <tr style=\"text-align: right;\">\n",
       "      <th></th>\n",
       "      <th>Unnamed: 0</th>\n",
       "      <th>subreddit</th>\n",
       "      <th>text</th>\n",
       "      <th>snow_text</th>\n",
       "      <th>texty</th>\n",
       "      <th>string</th>\n",
       "    </tr>\n",
       "  </thead>\n",
       "  <tbody>\n",
       "    <tr>\n",
       "      <th>0</th>\n",
       "      <td>0</td>\n",
       "      <td>1</td>\n",
       "      <td>We know that September 10 was World Suicide Pr...</td>\n",
       "      <td>[we, know, that, septemb, 10, was, world, suic...</td>\n",
       "      <td>[we know that septemb 10 was world suicid prev...</td>\n",
       "      <td>['we know that septemb 10 was world suicid pre...</td>\n",
       "    </tr>\n",
       "  </tbody>\n",
       "</table>\n",
       "</div>"
      ],
      "text/plain": [
       "   Unnamed: 0  subreddit                                               text  \\\n",
       "0           0          1  We know that September 10 was World Suicide Pr...   \n",
       "\n",
       "                                           snow_text  \\\n",
       "0  [we, know, that, septemb, 10, was, world, suic...   \n",
       "\n",
       "                                               texty  \\\n",
       "0  [we know that septemb 10 was world suicid prev...   \n",
       "\n",
       "                                              string  \n",
       "0  ['we know that septemb 10 was world suicid pre...  "
      ]
     },
     "execution_count": 22,
     "metadata": {},
     "output_type": "execute_result"
    }
   ],
   "source": [
    "df.head(1)"
   ]
  },
  {
   "cell_type": "code",
   "execution_count": 23,
   "metadata": {},
   "outputs": [],
   "source": [
    "#removing left bracket, right bracket, and apostrophe\n",
    "df['stringOG'] = [i.replace('[', '').replace(']', '').replace(\"'\", '') for i in df['string']]"
   ]
  },
  {
   "cell_type": "code",
   "execution_count": 24,
   "metadata": {},
   "outputs": [
    {
     "data": {
      "text/html": [
       "<div>\n",
       "<style scoped>\n",
       "    .dataframe tbody tr th:only-of-type {\n",
       "        vertical-align: middle;\n",
       "    }\n",
       "\n",
       "    .dataframe tbody tr th {\n",
       "        vertical-align: top;\n",
       "    }\n",
       "\n",
       "    .dataframe thead th {\n",
       "        text-align: right;\n",
       "    }\n",
       "</style>\n",
       "<table border=\"1\" class=\"dataframe\">\n",
       "  <thead>\n",
       "    <tr style=\"text-align: right;\">\n",
       "      <th></th>\n",
       "      <th>Unnamed: 0</th>\n",
       "      <th>subreddit</th>\n",
       "      <th>text</th>\n",
       "      <th>snow_text</th>\n",
       "      <th>texty</th>\n",
       "      <th>string</th>\n",
       "      <th>stringOG</th>\n",
       "    </tr>\n",
       "  </thead>\n",
       "  <tbody>\n",
       "    <tr>\n",
       "      <th>0</th>\n",
       "      <td>0</td>\n",
       "      <td>1</td>\n",
       "      <td>We know that September 10 was World Suicide Pr...</td>\n",
       "      <td>[we, know, that, septemb, 10, was, world, suic...</td>\n",
       "      <td>[we know that septemb 10 was world suicid prev...</td>\n",
       "      <td>['we know that septemb 10 was world suicid pre...</td>\n",
       "      <td>we know that septemb 10 was world suicid preve...</td>\n",
       "    </tr>\n",
       "    <tr>\n",
       "      <th>1</th>\n",
       "      <td>1</td>\n",
       "      <td>1</td>\n",
       "      <td>Welcome to /r/depression's check-in post - a p...</td>\n",
       "      <td>[welcom, to, r, depress, check, in, post, a, p...</td>\n",
       "      <td>[welcom to r depress check in post a place to ...</td>\n",
       "      <td>['welcom to r depress check in post a place to...</td>\n",
       "      <td>welcom to r depress check in post a place to t...</td>\n",
       "    </tr>\n",
       "    <tr>\n",
       "      <th>2</th>\n",
       "      <td>2</td>\n",
       "      <td>1</td>\n",
       "      <td>I’m going to the movies. I’m so nervous… I’m w...</td>\n",
       "      <td>[i, m, go, to, the, movi, i, m, so, nervous, i...</td>\n",
       "      <td>[i m go to the movi i m so nervous i m will le...</td>\n",
       "      <td>['i m go to the movi i m so nervous i m will l...</td>\n",
       "      <td>i m go to the movi i m so nervous i m will lea...</td>\n",
       "    </tr>\n",
       "    <tr>\n",
       "      <th>3</th>\n",
       "      <td>3</td>\n",
       "      <td>1</td>\n",
       "      <td>Now i can save so i can get myself out of this...</td>\n",
       "      <td>[now, i, can, save, so, i, can, get, myself, o...</td>\n",
       "      <td>[now i can save so i can get myself out of thi...</td>\n",
       "      <td>['now i can save so i can get myself out of th...</td>\n",
       "      <td>now i can save so i can get myself out of this...</td>\n",
       "    </tr>\n",
       "    <tr>\n",
       "      <th>4</th>\n",
       "      <td>4</td>\n",
       "      <td>1</td>\n",
       "      <td>I always do this. I’ll stay up until the wee h...</td>\n",
       "      <td>[i, alway, do, this, i, ll, stay, up, until, t...</td>\n",
       "      <td>[i alway do this i ll stay up until the wee ho...</td>\n",
       "      <td>['i alway do this i ll stay up until the wee h...</td>\n",
       "      <td>i alway do this i ll stay up until the wee hou...</td>\n",
       "    </tr>\n",
       "  </tbody>\n",
       "</table>\n",
       "</div>"
      ],
      "text/plain": [
       "   Unnamed: 0  subreddit                                               text  \\\n",
       "0           0          1  We know that September 10 was World Suicide Pr...   \n",
       "1           1          1  Welcome to /r/depression's check-in post - a p...   \n",
       "2           2          1  I’m going to the movies. I’m so nervous… I’m w...   \n",
       "3           3          1  Now i can save so i can get myself out of this...   \n",
       "4           4          1  I always do this. I’ll stay up until the wee h...   \n",
       "\n",
       "                                           snow_text  \\\n",
       "0  [we, know, that, septemb, 10, was, world, suic...   \n",
       "1  [welcom, to, r, depress, check, in, post, a, p...   \n",
       "2  [i, m, go, to, the, movi, i, m, so, nervous, i...   \n",
       "3  [now, i, can, save, so, i, can, get, myself, o...   \n",
       "4  [i, alway, do, this, i, ll, stay, up, until, t...   \n",
       "\n",
       "                                               texty  \\\n",
       "0  [we know that septemb 10 was world suicid prev...   \n",
       "1  [welcom to r depress check in post a place to ...   \n",
       "2  [i m go to the movi i m so nervous i m will le...   \n",
       "3  [now i can save so i can get myself out of thi...   \n",
       "4  [i alway do this i ll stay up until the wee ho...   \n",
       "\n",
       "                                              string  \\\n",
       "0  ['we know that septemb 10 was world suicid pre...   \n",
       "1  ['welcom to r depress check in post a place to...   \n",
       "2  ['i m go to the movi i m so nervous i m will l...   \n",
       "3  ['now i can save so i can get myself out of th...   \n",
       "4  ['i alway do this i ll stay up until the wee h...   \n",
       "\n",
       "                                            stringOG  \n",
       "0  we know that septemb 10 was world suicid preve...  \n",
       "1  welcom to r depress check in post a place to t...  \n",
       "2  i m go to the movi i m so nervous i m will lea...  \n",
       "3  now i can save so i can get myself out of this...  \n",
       "4  i alway do this i ll stay up until the wee hou...  "
      ]
     },
     "execution_count": 24,
     "metadata": {},
     "output_type": "execute_result"
    }
   ],
   "source": [
    "df.head()"
   ]
  },
  {
   "cell_type": "markdown",
   "metadata": {},
   "source": [
    "## Saving Snow Data \n",
    "- Called snow.csv"
   ]
  },
  {
   "cell_type": "code",
   "execution_count": 25,
   "metadata": {},
   "outputs": [],
   "source": [
    "#remember i am only analyzing text, therefore iwant to keep the string and subreddit\n",
    "features = ['subreddit', 'stringOG']\n",
    "dataframe = df[features]"
   ]
  },
  {
   "cell_type": "code",
   "execution_count": 26,
   "metadata": {},
   "outputs": [
    {
     "data": {
      "text/html": [
       "<div>\n",
       "<style scoped>\n",
       "    .dataframe tbody tr th:only-of-type {\n",
       "        vertical-align: middle;\n",
       "    }\n",
       "\n",
       "    .dataframe tbody tr th {\n",
       "        vertical-align: top;\n",
       "    }\n",
       "\n",
       "    .dataframe thead th {\n",
       "        text-align: right;\n",
       "    }\n",
       "</style>\n",
       "<table border=\"1\" class=\"dataframe\">\n",
       "  <thead>\n",
       "    <tr style=\"text-align: right;\">\n",
       "      <th></th>\n",
       "      <th>subreddit</th>\n",
       "      <th>stringOG</th>\n",
       "    </tr>\n",
       "  </thead>\n",
       "  <tbody>\n",
       "    <tr>\n",
       "      <th>0</th>\n",
       "      <td>1</td>\n",
       "      <td>we know that septemb 10 was world suicid preve...</td>\n",
       "    </tr>\n",
       "    <tr>\n",
       "      <th>1</th>\n",
       "      <td>1</td>\n",
       "      <td>welcom to r depress check in post a place to t...</td>\n",
       "    </tr>\n",
       "    <tr>\n",
       "      <th>2</th>\n",
       "      <td>1</td>\n",
       "      <td>i m go to the movi i m so nervous i m will lea...</td>\n",
       "    </tr>\n",
       "    <tr>\n",
       "      <th>3</th>\n",
       "      <td>1</td>\n",
       "      <td>now i can save so i can get myself out of this...</td>\n",
       "    </tr>\n",
       "    <tr>\n",
       "      <th>4</th>\n",
       "      <td>1</td>\n",
       "      <td>i alway do this i ll stay up until the wee hou...</td>\n",
       "    </tr>\n",
       "  </tbody>\n",
       "</table>\n",
       "</div>"
      ],
      "text/plain": [
       "   subreddit                                           stringOG\n",
       "0          1  we know that septemb 10 was world suicid preve...\n",
       "1          1  welcom to r depress check in post a place to t...\n",
       "2          1  i m go to the movi i m so nervous i m will lea...\n",
       "3          1  now i can save so i can get myself out of this...\n",
       "4          1  i alway do this i ll stay up until the wee hou..."
      ]
     },
     "execution_count": 26,
     "metadata": {},
     "output_type": "execute_result"
    }
   ],
   "source": [
    "dataframe.head()"
   ]
  },
  {
   "cell_type": "code",
   "execution_count": 27,
   "metadata": {},
   "outputs": [
    {
     "data": {
      "text/plain": [
       "(1891, 2)"
      ]
     },
     "execution_count": 27,
     "metadata": {},
     "output_type": "execute_result"
    }
   ],
   "source": [
    "dataframe.shape"
   ]
  },
  {
   "cell_type": "code",
   "execution_count": 28,
   "metadata": {},
   "outputs": [],
   "source": [
    "#saving it to df\n",
    "dataframe.to_csv('./datasets/snow.csv')"
   ]
  },
  {
   "cell_type": "code",
   "execution_count": null,
   "metadata": {},
   "outputs": [],
   "source": []
  }
 ],
 "metadata": {
  "kernelspec": {
   "display_name": "Python 3",
   "language": "python",
   "name": "python3"
  },
  "language_info": {
   "codemirror_mode": {
    "name": "ipython",
    "version": 3
   },
   "file_extension": ".py",
   "mimetype": "text/x-python",
   "name": "python",
   "nbconvert_exporter": "python",
   "pygments_lexer": "ipython3",
   "version": "3.7.1"
  }
 },
 "nbformat": 4,
 "nbformat_minor": 2
}
