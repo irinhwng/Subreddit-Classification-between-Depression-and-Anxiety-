{
 "cells": [
  {
   "cell_type": "markdown",
   "metadata": {},
   "source": [
    "# Objective: Each subreddit must have 1000 unique selftexts\n",
    "---"
   ]
  },
  {
   "cell_type": "code",
   "execution_count": 1,
   "metadata": {},
   "outputs": [],
   "source": [
    "import pandas as pd"
   ]
  },
  {
   "cell_type": "markdown",
   "metadata": {},
   "source": [
    "# Depression Data"
   ]
  },
  {
   "cell_type": "code",
   "execution_count": 2,
   "metadata": {},
   "outputs": [],
   "source": [
    "depression = pd.read_csv('./datasets/depression.csv')"
   ]
  },
  {
   "cell_type": "code",
   "execution_count": 3,
   "metadata": {},
   "outputs": [
    {
     "data": {
      "text/html": [
       "<div>\n",
       "<style scoped>\n",
       "    .dataframe tbody tr th:only-of-type {\n",
       "        vertical-align: middle;\n",
       "    }\n",
       "\n",
       "    .dataframe tbody tr th {\n",
       "        vertical-align: top;\n",
       "    }\n",
       "\n",
       "    .dataframe thead th {\n",
       "        text-align: right;\n",
       "    }\n",
       "</style>\n",
       "<table border=\"1\" class=\"dataframe\">\n",
       "  <thead>\n",
       "    <tr style=\"text-align: right;\">\n",
       "      <th></th>\n",
       "      <th>Unnamed: 0</th>\n",
       "      <th>approved_at_utc</th>\n",
       "      <th>subreddit</th>\n",
       "      <th>selftext</th>\n",
       "      <th>author_fullname</th>\n",
       "      <th>saved</th>\n",
       "      <th>mod_reason_title</th>\n",
       "      <th>gilded</th>\n",
       "      <th>clicked</th>\n",
       "      <th>title</th>\n",
       "      <th>...</th>\n",
       "      <th>permalink</th>\n",
       "      <th>parent_whitelist_status</th>\n",
       "      <th>stickied</th>\n",
       "      <th>url</th>\n",
       "      <th>subreddit_subscribers</th>\n",
       "      <th>created_utc</th>\n",
       "      <th>discussion_type</th>\n",
       "      <th>media</th>\n",
       "      <th>is_video</th>\n",
       "      <th>author_cakeday</th>\n",
       "    </tr>\n",
       "  </thead>\n",
       "  <tbody>\n",
       "    <tr>\n",
       "      <th>0</th>\n",
       "      <td>0</td>\n",
       "      <td>NaN</td>\n",
       "      <td>depression</td>\n",
       "      <td>We know that September 10 was World Suicide Pr...</td>\n",
       "      <td>t2_1t70</td>\n",
       "      <td>False</td>\n",
       "      <td>NaN</td>\n",
       "      <td>0</td>\n",
       "      <td>False</td>\n",
       "      <td>Reminder: NO ACTIVISM is allowed here at any t...</td>\n",
       "      <td>...</td>\n",
       "      <td>/r/depression/comments/9er34n/reminder_no_acti...</td>\n",
       "      <td>no_ads</td>\n",
       "      <td>True</td>\n",
       "      <td>https://www.reddit.com/r/depression/comments/9...</td>\n",
       "      <td>503808</td>\n",
       "      <td>1.536613e+09</td>\n",
       "      <td>NaN</td>\n",
       "      <td>NaN</td>\n",
       "      <td>False</td>\n",
       "      <td>NaN</td>\n",
       "    </tr>\n",
       "    <tr>\n",
       "      <th>1</th>\n",
       "      <td>1</td>\n",
       "      <td>NaN</td>\n",
       "      <td>depression</td>\n",
       "      <td>Welcome to /r/depression's check-in post - a p...</td>\n",
       "      <td>t2_1t70</td>\n",
       "      <td>False</td>\n",
       "      <td>NaN</td>\n",
       "      <td>0</td>\n",
       "      <td>False</td>\n",
       "      <td>Regular Check-In Post</td>\n",
       "      <td>...</td>\n",
       "      <td>/r/depression/comments/anh7tv/regular_checkin_...</td>\n",
       "      <td>no_ads</td>\n",
       "      <td>True</td>\n",
       "      <td>https://www.reddit.com/r/depression/comments/a...</td>\n",
       "      <td>503808</td>\n",
       "      <td>1.549392e+09</td>\n",
       "      <td>NaN</td>\n",
       "      <td>NaN</td>\n",
       "      <td>False</td>\n",
       "      <td>NaN</td>\n",
       "    </tr>\n",
       "    <tr>\n",
       "      <th>2</th>\n",
       "      <td>2</td>\n",
       "      <td>NaN</td>\n",
       "      <td>depression</td>\n",
       "      <td>I’m going to the movies. I’m so nervous…</td>\n",
       "      <td>t2_3y8evtoh</td>\n",
       "      <td>False</td>\n",
       "      <td>NaN</td>\n",
       "      <td>1</td>\n",
       "      <td>False</td>\n",
       "      <td>I’m willingly leaving my house for the first t...</td>\n",
       "      <td>...</td>\n",
       "      <td>/r/depression/comments/c8ij3y/im_willingly_lea...</td>\n",
       "      <td>no_ads</td>\n",
       "      <td>False</td>\n",
       "      <td>https://www.reddit.com/r/depression/comments/c...</td>\n",
       "      <td>503808</td>\n",
       "      <td>1.562121e+09</td>\n",
       "      <td>NaN</td>\n",
       "      <td>NaN</td>\n",
       "      <td>False</td>\n",
       "      <td>NaN</td>\n",
       "    </tr>\n",
       "    <tr>\n",
       "      <th>3</th>\n",
       "      <td>3</td>\n",
       "      <td>NaN</td>\n",
       "      <td>depression</td>\n",
       "      <td>Now i can save so i can get myself out of this...</td>\n",
       "      <td>t2_2mfcq6e9</td>\n",
       "      <td>False</td>\n",
       "      <td>NaN</td>\n",
       "      <td>0</td>\n",
       "      <td>False</td>\n",
       "      <td>i finally got a job</td>\n",
       "      <td>...</td>\n",
       "      <td>/r/depression/comments/c8mnay/i_finally_got_a_...</td>\n",
       "      <td>no_ads</td>\n",
       "      <td>False</td>\n",
       "      <td>https://www.reddit.com/r/depression/comments/c...</td>\n",
       "      <td>503808</td>\n",
       "      <td>1.562151e+09</td>\n",
       "      <td>NaN</td>\n",
       "      <td>NaN</td>\n",
       "      <td>False</td>\n",
       "      <td>NaN</td>\n",
       "    </tr>\n",
       "    <tr>\n",
       "      <th>4</th>\n",
       "      <td>4</td>\n",
       "      <td>NaN</td>\n",
       "      <td>depression</td>\n",
       "      <td>I always do this. I’ll stay up until the wee h...</td>\n",
       "      <td>t2_18u3sn83</td>\n",
       "      <td>False</td>\n",
       "      <td>NaN</td>\n",
       "      <td>0</td>\n",
       "      <td>False</td>\n",
       "      <td>Does anyone else stay up super late to avoid b...</td>\n",
       "      <td>...</td>\n",
       "      <td>/r/depression/comments/c8m2cy/does_anyone_else...</td>\n",
       "      <td>no_ads</td>\n",
       "      <td>False</td>\n",
       "      <td>https://www.reddit.com/r/depression/comments/c...</td>\n",
       "      <td>503808</td>\n",
       "      <td>1.562147e+09</td>\n",
       "      <td>NaN</td>\n",
       "      <td>NaN</td>\n",
       "      <td>False</td>\n",
       "      <td>NaN</td>\n",
       "    </tr>\n",
       "  </tbody>\n",
       "</table>\n",
       "<p>5 rows × 97 columns</p>\n",
       "</div>"
      ],
      "text/plain": [
       "   Unnamed: 0  approved_at_utc   subreddit  \\\n",
       "0           0              NaN  depression   \n",
       "1           1              NaN  depression   \n",
       "2           2              NaN  depression   \n",
       "3           3              NaN  depression   \n",
       "4           4              NaN  depression   \n",
       "\n",
       "                                            selftext author_fullname  saved  \\\n",
       "0  We know that September 10 was World Suicide Pr...         t2_1t70  False   \n",
       "1  Welcome to /r/depression's check-in post - a p...         t2_1t70  False   \n",
       "2           I’m going to the movies. I’m so nervous…     t2_3y8evtoh  False   \n",
       "3  Now i can save so i can get myself out of this...     t2_2mfcq6e9  False   \n",
       "4  I always do this. I’ll stay up until the wee h...     t2_18u3sn83  False   \n",
       "\n",
       "   mod_reason_title  gilded  clicked  \\\n",
       "0               NaN       0    False   \n",
       "1               NaN       0    False   \n",
       "2               NaN       1    False   \n",
       "3               NaN       0    False   \n",
       "4               NaN       0    False   \n",
       "\n",
       "                                               title      ...        \\\n",
       "0  Reminder: NO ACTIVISM is allowed here at any t...      ...         \n",
       "1                              Regular Check-In Post      ...         \n",
       "2  I’m willingly leaving my house for the first t...      ...         \n",
       "3                                i finally got a job      ...         \n",
       "4  Does anyone else stay up super late to avoid b...      ...         \n",
       "\n",
       "                                           permalink parent_whitelist_status  \\\n",
       "0  /r/depression/comments/9er34n/reminder_no_acti...                  no_ads   \n",
       "1  /r/depression/comments/anh7tv/regular_checkin_...                  no_ads   \n",
       "2  /r/depression/comments/c8ij3y/im_willingly_lea...                  no_ads   \n",
       "3  /r/depression/comments/c8mnay/i_finally_got_a_...                  no_ads   \n",
       "4  /r/depression/comments/c8m2cy/does_anyone_else...                  no_ads   \n",
       "\n",
       "   stickied                                                url  \\\n",
       "0      True  https://www.reddit.com/r/depression/comments/9...   \n",
       "1      True  https://www.reddit.com/r/depression/comments/a...   \n",
       "2     False  https://www.reddit.com/r/depression/comments/c...   \n",
       "3     False  https://www.reddit.com/r/depression/comments/c...   \n",
       "4     False  https://www.reddit.com/r/depression/comments/c...   \n",
       "\n",
       "   subreddit_subscribers   created_utc  discussion_type media  is_video  \\\n",
       "0                 503808  1.536613e+09              NaN   NaN     False   \n",
       "1                 503808  1.549392e+09              NaN   NaN     False   \n",
       "2                 503808  1.562121e+09              NaN   NaN     False   \n",
       "3                 503808  1.562151e+09              NaN   NaN     False   \n",
       "4                 503808  1.562147e+09              NaN   NaN     False   \n",
       "\n",
       "  author_cakeday  \n",
       "0            NaN  \n",
       "1            NaN  \n",
       "2            NaN  \n",
       "3            NaN  \n",
       "4            NaN  \n",
       "\n",
       "[5 rows x 97 columns]"
      ]
     },
     "execution_count": 3,
     "metadata": {},
     "output_type": "execute_result"
    }
   ],
   "source": [
    "depression.head()"
   ]
  },
  {
   "cell_type": "markdown",
   "metadata": {},
   "source": [
    "## First Size of Depression Dataframe"
   ]
  },
  {
   "cell_type": "code",
   "execution_count": 4,
   "metadata": {},
   "outputs": [
    {
     "data": {
      "text/plain": [
       "(2501, 97)"
      ]
     },
     "execution_count": 4,
     "metadata": {},
     "output_type": "execute_result"
    }
   ],
   "source": [
    "depression.shape"
   ]
  },
  {
   "cell_type": "markdown",
   "metadata": {},
   "source": [
    "## Length of Dataframe without duplicates"
   ]
  },
  {
   "cell_type": "code",
   "execution_count": 5,
   "metadata": {},
   "outputs": [],
   "source": [
    "#i want to drop all selftext duplicates since this subreddit reposts blogs\n",
    "unique = depression.drop_duplicates(subset = 'selftext')"
   ]
  },
  {
   "cell_type": "code",
   "execution_count": 6,
   "metadata": {},
   "outputs": [
    {
     "data": {
      "text/plain": [
       "923"
      ]
     },
     "execution_count": 6,
     "metadata": {},
     "output_type": "execute_result"
    }
   ],
   "source": [
    "#length of unique selftexts\n",
    "len(unique)"
   ]
  },
  {
   "cell_type": "code",
   "execution_count": 7,
   "metadata": {},
   "outputs": [
    {
     "data": {
      "text/html": [
       "<div>\n",
       "<style scoped>\n",
       "    .dataframe tbody tr th:only-of-type {\n",
       "        vertical-align: middle;\n",
       "    }\n",
       "\n",
       "    .dataframe tbody tr th {\n",
       "        vertical-align: top;\n",
       "    }\n",
       "\n",
       "    .dataframe thead th {\n",
       "        text-align: right;\n",
       "    }\n",
       "</style>\n",
       "<table border=\"1\" class=\"dataframe\">\n",
       "  <thead>\n",
       "    <tr style=\"text-align: right;\">\n",
       "      <th></th>\n",
       "      <th>Unnamed: 0</th>\n",
       "      <th>approved_at_utc</th>\n",
       "      <th>subreddit</th>\n",
       "      <th>selftext</th>\n",
       "      <th>author_fullname</th>\n",
       "      <th>saved</th>\n",
       "      <th>mod_reason_title</th>\n",
       "      <th>gilded</th>\n",
       "      <th>clicked</th>\n",
       "      <th>title</th>\n",
       "      <th>...</th>\n",
       "      <th>permalink</th>\n",
       "      <th>parent_whitelist_status</th>\n",
       "      <th>stickied</th>\n",
       "      <th>url</th>\n",
       "      <th>subreddit_subscribers</th>\n",
       "      <th>created_utc</th>\n",
       "      <th>discussion_type</th>\n",
       "      <th>media</th>\n",
       "      <th>is_video</th>\n",
       "      <th>author_cakeday</th>\n",
       "    </tr>\n",
       "  </thead>\n",
       "  <tbody>\n",
       "    <tr>\n",
       "      <th>0</th>\n",
       "      <td>0</td>\n",
       "      <td>NaN</td>\n",
       "      <td>depression</td>\n",
       "      <td>We know that September 10 was World Suicide Pr...</td>\n",
       "      <td>t2_1t70</td>\n",
       "      <td>False</td>\n",
       "      <td>NaN</td>\n",
       "      <td>0</td>\n",
       "      <td>False</td>\n",
       "      <td>Reminder: NO ACTIVISM is allowed here at any t...</td>\n",
       "      <td>...</td>\n",
       "      <td>/r/depression/comments/9er34n/reminder_no_acti...</td>\n",
       "      <td>no_ads</td>\n",
       "      <td>True</td>\n",
       "      <td>https://www.reddit.com/r/depression/comments/9...</td>\n",
       "      <td>503808</td>\n",
       "      <td>1.536613e+09</td>\n",
       "      <td>NaN</td>\n",
       "      <td>NaN</td>\n",
       "      <td>False</td>\n",
       "      <td>NaN</td>\n",
       "    </tr>\n",
       "    <tr>\n",
       "      <th>1</th>\n",
       "      <td>1</td>\n",
       "      <td>NaN</td>\n",
       "      <td>depression</td>\n",
       "      <td>Welcome to /r/depression's check-in post - a p...</td>\n",
       "      <td>t2_1t70</td>\n",
       "      <td>False</td>\n",
       "      <td>NaN</td>\n",
       "      <td>0</td>\n",
       "      <td>False</td>\n",
       "      <td>Regular Check-In Post</td>\n",
       "      <td>...</td>\n",
       "      <td>/r/depression/comments/anh7tv/regular_checkin_...</td>\n",
       "      <td>no_ads</td>\n",
       "      <td>True</td>\n",
       "      <td>https://www.reddit.com/r/depression/comments/a...</td>\n",
       "      <td>503808</td>\n",
       "      <td>1.549392e+09</td>\n",
       "      <td>NaN</td>\n",
       "      <td>NaN</td>\n",
       "      <td>False</td>\n",
       "      <td>NaN</td>\n",
       "    </tr>\n",
       "    <tr>\n",
       "      <th>2</th>\n",
       "      <td>2</td>\n",
       "      <td>NaN</td>\n",
       "      <td>depression</td>\n",
       "      <td>I’m going to the movies. I’m so nervous…</td>\n",
       "      <td>t2_3y8evtoh</td>\n",
       "      <td>False</td>\n",
       "      <td>NaN</td>\n",
       "      <td>1</td>\n",
       "      <td>False</td>\n",
       "      <td>I’m willingly leaving my house for the first t...</td>\n",
       "      <td>...</td>\n",
       "      <td>/r/depression/comments/c8ij3y/im_willingly_lea...</td>\n",
       "      <td>no_ads</td>\n",
       "      <td>False</td>\n",
       "      <td>https://www.reddit.com/r/depression/comments/c...</td>\n",
       "      <td>503808</td>\n",
       "      <td>1.562121e+09</td>\n",
       "      <td>NaN</td>\n",
       "      <td>NaN</td>\n",
       "      <td>False</td>\n",
       "      <td>NaN</td>\n",
       "    </tr>\n",
       "    <tr>\n",
       "      <th>3</th>\n",
       "      <td>3</td>\n",
       "      <td>NaN</td>\n",
       "      <td>depression</td>\n",
       "      <td>Now i can save so i can get myself out of this...</td>\n",
       "      <td>t2_2mfcq6e9</td>\n",
       "      <td>False</td>\n",
       "      <td>NaN</td>\n",
       "      <td>0</td>\n",
       "      <td>False</td>\n",
       "      <td>i finally got a job</td>\n",
       "      <td>...</td>\n",
       "      <td>/r/depression/comments/c8mnay/i_finally_got_a_...</td>\n",
       "      <td>no_ads</td>\n",
       "      <td>False</td>\n",
       "      <td>https://www.reddit.com/r/depression/comments/c...</td>\n",
       "      <td>503808</td>\n",
       "      <td>1.562151e+09</td>\n",
       "      <td>NaN</td>\n",
       "      <td>NaN</td>\n",
       "      <td>False</td>\n",
       "      <td>NaN</td>\n",
       "    </tr>\n",
       "    <tr>\n",
       "      <th>4</th>\n",
       "      <td>4</td>\n",
       "      <td>NaN</td>\n",
       "      <td>depression</td>\n",
       "      <td>I always do this. I’ll stay up until the wee h...</td>\n",
       "      <td>t2_18u3sn83</td>\n",
       "      <td>False</td>\n",
       "      <td>NaN</td>\n",
       "      <td>0</td>\n",
       "      <td>False</td>\n",
       "      <td>Does anyone else stay up super late to avoid b...</td>\n",
       "      <td>...</td>\n",
       "      <td>/r/depression/comments/c8m2cy/does_anyone_else...</td>\n",
       "      <td>no_ads</td>\n",
       "      <td>False</td>\n",
       "      <td>https://www.reddit.com/r/depression/comments/c...</td>\n",
       "      <td>503808</td>\n",
       "      <td>1.562147e+09</td>\n",
       "      <td>NaN</td>\n",
       "      <td>NaN</td>\n",
       "      <td>False</td>\n",
       "      <td>NaN</td>\n",
       "    </tr>\n",
       "  </tbody>\n",
       "</table>\n",
       "<p>5 rows × 97 columns</p>\n",
       "</div>"
      ],
      "text/plain": [
       "   Unnamed: 0  approved_at_utc   subreddit  \\\n",
       "0           0              NaN  depression   \n",
       "1           1              NaN  depression   \n",
       "2           2              NaN  depression   \n",
       "3           3              NaN  depression   \n",
       "4           4              NaN  depression   \n",
       "\n",
       "                                            selftext author_fullname  saved  \\\n",
       "0  We know that September 10 was World Suicide Pr...         t2_1t70  False   \n",
       "1  Welcome to /r/depression's check-in post - a p...         t2_1t70  False   \n",
       "2           I’m going to the movies. I’m so nervous…     t2_3y8evtoh  False   \n",
       "3  Now i can save so i can get myself out of this...     t2_2mfcq6e9  False   \n",
       "4  I always do this. I’ll stay up until the wee h...     t2_18u3sn83  False   \n",
       "\n",
       "   mod_reason_title  gilded  clicked  \\\n",
       "0               NaN       0    False   \n",
       "1               NaN       0    False   \n",
       "2               NaN       1    False   \n",
       "3               NaN       0    False   \n",
       "4               NaN       0    False   \n",
       "\n",
       "                                               title      ...        \\\n",
       "0  Reminder: NO ACTIVISM is allowed here at any t...      ...         \n",
       "1                              Regular Check-In Post      ...         \n",
       "2  I’m willingly leaving my house for the first t...      ...         \n",
       "3                                i finally got a job      ...         \n",
       "4  Does anyone else stay up super late to avoid b...      ...         \n",
       "\n",
       "                                           permalink parent_whitelist_status  \\\n",
       "0  /r/depression/comments/9er34n/reminder_no_acti...                  no_ads   \n",
       "1  /r/depression/comments/anh7tv/regular_checkin_...                  no_ads   \n",
       "2  /r/depression/comments/c8ij3y/im_willingly_lea...                  no_ads   \n",
       "3  /r/depression/comments/c8mnay/i_finally_got_a_...                  no_ads   \n",
       "4  /r/depression/comments/c8m2cy/does_anyone_else...                  no_ads   \n",
       "\n",
       "   stickied                                                url  \\\n",
       "0      True  https://www.reddit.com/r/depression/comments/9...   \n",
       "1      True  https://www.reddit.com/r/depression/comments/a...   \n",
       "2     False  https://www.reddit.com/r/depression/comments/c...   \n",
       "3     False  https://www.reddit.com/r/depression/comments/c...   \n",
       "4     False  https://www.reddit.com/r/depression/comments/c...   \n",
       "\n",
       "   subreddit_subscribers   created_utc  discussion_type media  is_video  \\\n",
       "0                 503808  1.536613e+09              NaN   NaN     False   \n",
       "1                 503808  1.549392e+09              NaN   NaN     False   \n",
       "2                 503808  1.562121e+09              NaN   NaN     False   \n",
       "3                 503808  1.562151e+09              NaN   NaN     False   \n",
       "4                 503808  1.562147e+09              NaN   NaN     False   \n",
       "\n",
       "  author_cakeday  \n",
       "0            NaN  \n",
       "1            NaN  \n",
       "2            NaN  \n",
       "3            NaN  \n",
       "4            NaN  \n",
       "\n",
       "[5 rows x 97 columns]"
      ]
     },
     "execution_count": 7,
     "metadata": {},
     "output_type": "execute_result"
    }
   ],
   "source": [
    "unique.head()"
   ]
  },
  {
   "cell_type": "markdown",
   "metadata": {},
   "source": [
    "### Since we have 923 unique self texts, lets go back to our Depression Data Collection notebook and get more blog posts in order to reach 1000 unique self texts "
   ]
  },
  {
   "cell_type": "markdown",
   "metadata": {},
   "source": [
    "## Trying Anxiety Subreddit\n"
   ]
  },
  {
   "cell_type": "code",
   "execution_count": 8,
   "metadata": {},
   "outputs": [
    {
     "data": {
      "text/plain": [
       "(4999, 102)"
      ]
     },
     "execution_count": 8,
     "metadata": {},
     "output_type": "execute_result"
    }
   ],
   "source": [
    "anxiety = pd.read_csv('./datasets/anxiety.csv')\n",
    "anxiety.shape"
   ]
  },
  {
   "cell_type": "code",
   "execution_count": 9,
   "metadata": {},
   "outputs": [
    {
     "data": {
      "text/plain": [
       "970"
      ]
     },
     "execution_count": 9,
     "metadata": {},
     "output_type": "execute_result"
    }
   ],
   "source": [
    "#this is the length of unique selftexts from anxiety\n",
    "unique = anxiety.drop_duplicates(subset = 'selftext')\n",
    "len(unique)"
   ]
  },
  {
   "cell_type": "markdown",
   "metadata": {},
   "source": [
    "#### We have a decent amount of unique blogs for the Anxiety Subreddit! Let's proceed with Anxiety!"
   ]
  },
  {
   "cell_type": "markdown",
   "metadata": {},
   "source": [
    "# Conclusion"
   ]
  },
  {
   "cell_type": "markdown",
   "metadata": {},
   "source": [
    "**The two subreddits we'll use for this project are: r/Anxiety and r/Depression**\n",
    "- Let's export both dataframes with unique selftexts as csv files\n",
    "- The four columns I want to keep are: subreddit, selftext, title, created_utc"
   ]
  },
  {
   "cell_type": "markdown",
   "metadata": {},
   "source": [
    "### Anxiety "
   ]
  },
  {
   "cell_type": "code",
   "execution_count": 10,
   "metadata": {},
   "outputs": [
    {
     "data": {
      "text/plain": [
       "(4999, 102)"
      ]
     },
     "execution_count": 10,
     "metadata": {},
     "output_type": "execute_result"
    }
   ],
   "source": [
    "anxiety.shape"
   ]
  },
  {
   "cell_type": "code",
   "execution_count": 11,
   "metadata": {},
   "outputs": [],
   "source": [
    "unique_anxiety = anxiety.drop_duplicates(subset = 'selftext')"
   ]
  },
  {
   "cell_type": "code",
   "execution_count": 12,
   "metadata": {},
   "outputs": [
    {
     "data": {
      "text/plain": [
       "(970, 102)"
      ]
     },
     "execution_count": 12,
     "metadata": {},
     "output_type": "execute_result"
    }
   ],
   "source": [
    "unique_anxiety.shape"
   ]
  },
  {
   "cell_type": "code",
   "execution_count": 13,
   "metadata": {},
   "outputs": [
    {
     "data": {
      "text/plain": [
       "pandas.core.frame.DataFrame"
      ]
     },
     "execution_count": 13,
     "metadata": {},
     "output_type": "execute_result"
    }
   ],
   "source": [
    "type(unique_anxiety)"
   ]
  },
  {
   "cell_type": "code",
   "execution_count": 14,
   "metadata": {},
   "outputs": [],
   "source": [
    "#creating unique anxiety df with selftext, title, and created utc\n",
    "features = ['subreddit', 'selftext', 'title', 'created_utc']\n",
    "unique_anxiety = unique_anxiety[features]"
   ]
  },
  {
   "cell_type": "code",
   "execution_count": 15,
   "metadata": {},
   "outputs": [
    {
     "data": {
      "text/html": [
       "<div>\n",
       "<style scoped>\n",
       "    .dataframe tbody tr th:only-of-type {\n",
       "        vertical-align: middle;\n",
       "    }\n",
       "\n",
       "    .dataframe tbody tr th {\n",
       "        vertical-align: top;\n",
       "    }\n",
       "\n",
       "    .dataframe thead th {\n",
       "        text-align: right;\n",
       "    }\n",
       "</style>\n",
       "<table border=\"1\" class=\"dataframe\">\n",
       "  <thead>\n",
       "    <tr style=\"text-align: right;\">\n",
       "      <th></th>\n",
       "      <th>subreddit</th>\n",
       "      <th>selftext</th>\n",
       "      <th>title</th>\n",
       "      <th>created_utc</th>\n",
       "    </tr>\n",
       "  </thead>\n",
       "  <tbody>\n",
       "    <tr>\n",
       "      <th>0</th>\n",
       "      <td>Anxiety</td>\n",
       "      <td>Greetings /r/Anxiety,\\n\\n\\nI apologize for the...</td>\n",
       "      <td>CBD Megathread (June 2019)</td>\n",
       "      <td>1.560125e+09</td>\n",
       "    </tr>\n",
       "    <tr>\n",
       "      <th>1</th>\n",
       "      <td>Anxiety</td>\n",
       "      <td>What have you accomplished this week? Share yo...</td>\n",
       "      <td>Wednesday Wins - July 03, 2019</td>\n",
       "      <td>1.562156e+09</td>\n",
       "    </tr>\n",
       "    <tr>\n",
       "      <th>2</th>\n",
       "      <td>Anxiety</td>\n",
       "      <td>I GOT AN OFFER!!!!!!\\n\\nI went back to pessimi...</td>\n",
       "      <td>[UPDATE] after almost canceling a job intervie...</td>\n",
       "      <td>1.562108e+09</td>\n",
       "    </tr>\n",
       "    <tr>\n",
       "      <th>3</th>\n",
       "      <td>Anxiety</td>\n",
       "      <td>i have severe anxiety and it is really difficu...</td>\n",
       "      <td>i went to a bookstore and got a coffee by myse...</td>\n",
       "      <td>1.562172e+09</td>\n",
       "    </tr>\n",
       "    <tr>\n",
       "      <th>4</th>\n",
       "      <td>Anxiety</td>\n",
       "      <td>This may seem like a small victory or just com...</td>\n",
       "      <td>I just managed to shift from a heart rate of 1...</td>\n",
       "      <td>1.562172e+09</td>\n",
       "    </tr>\n",
       "  </tbody>\n",
       "</table>\n",
       "</div>"
      ],
      "text/plain": [
       "  subreddit                                           selftext  \\\n",
       "0   Anxiety  Greetings /r/Anxiety,\\n\\n\\nI apologize for the...   \n",
       "1   Anxiety  What have you accomplished this week? Share yo...   \n",
       "2   Anxiety  I GOT AN OFFER!!!!!!\\n\\nI went back to pessimi...   \n",
       "3   Anxiety  i have severe anxiety and it is really difficu...   \n",
       "4   Anxiety  This may seem like a small victory or just com...   \n",
       "\n",
       "                                               title   created_utc  \n",
       "0                         CBD Megathread (June 2019)  1.560125e+09  \n",
       "1                     Wednesday Wins - July 03, 2019  1.562156e+09  \n",
       "2  [UPDATE] after almost canceling a job intervie...  1.562108e+09  \n",
       "3  i went to a bookstore and got a coffee by myse...  1.562172e+09  \n",
       "4  I just managed to shift from a heart rate of 1...  1.562172e+09  "
      ]
     },
     "execution_count": 15,
     "metadata": {},
     "output_type": "execute_result"
    }
   ],
   "source": [
    "unique_anxiety.head()"
   ]
  },
  {
   "cell_type": "code",
   "execution_count": 16,
   "metadata": {},
   "outputs": [
    {
     "data": {
      "text/plain": [
       "(970, 4)"
      ]
     },
     "execution_count": 16,
     "metadata": {},
     "output_type": "execute_result"
    }
   ],
   "source": [
    "unique_anxiety.shape"
   ]
  },
  {
   "cell_type": "code",
   "execution_count": 17,
   "metadata": {},
   "outputs": [],
   "source": [
    "#creating unique anxiety df\n",
    "unique_anxiety.to_csv('./datasets/unique_anxiety.csv')"
   ]
  },
  {
   "cell_type": "markdown",
   "metadata": {},
   "source": [
    "### Depression"
   ]
  },
  {
   "cell_type": "code",
   "execution_count": 18,
   "metadata": {},
   "outputs": [],
   "source": [
    "unique_depression = depression.drop_duplicates(subset = 'selftext')"
   ]
  },
  {
   "cell_type": "code",
   "execution_count": 19,
   "metadata": {},
   "outputs": [
    {
     "data": {
      "text/plain": [
       "(923, 97)"
      ]
     },
     "execution_count": 19,
     "metadata": {},
     "output_type": "execute_result"
    }
   ],
   "source": [
    "unique_depression.shape"
   ]
  },
  {
   "cell_type": "code",
   "execution_count": 20,
   "metadata": {},
   "outputs": [],
   "source": [
    "#creating unique df for derpression \n",
    "features = ['subreddit', 'selftext', 'title', 'created_utc']\n",
    "unique_depression = unique_depression[features]"
   ]
  },
  {
   "cell_type": "code",
   "execution_count": 21,
   "metadata": {},
   "outputs": [
    {
     "data": {
      "text/html": [
       "<div>\n",
       "<style scoped>\n",
       "    .dataframe tbody tr th:only-of-type {\n",
       "        vertical-align: middle;\n",
       "    }\n",
       "\n",
       "    .dataframe tbody tr th {\n",
       "        vertical-align: top;\n",
       "    }\n",
       "\n",
       "    .dataframe thead th {\n",
       "        text-align: right;\n",
       "    }\n",
       "</style>\n",
       "<table border=\"1\" class=\"dataframe\">\n",
       "  <thead>\n",
       "    <tr style=\"text-align: right;\">\n",
       "      <th></th>\n",
       "      <th>subreddit</th>\n",
       "      <th>selftext</th>\n",
       "      <th>title</th>\n",
       "      <th>created_utc</th>\n",
       "    </tr>\n",
       "  </thead>\n",
       "  <tbody>\n",
       "    <tr>\n",
       "      <th>0</th>\n",
       "      <td>depression</td>\n",
       "      <td>We know that September 10 was World Suicide Pr...</td>\n",
       "      <td>Reminder: NO ACTIVISM is allowed here at any t...</td>\n",
       "      <td>1.536613e+09</td>\n",
       "    </tr>\n",
       "    <tr>\n",
       "      <th>1</th>\n",
       "      <td>depression</td>\n",
       "      <td>Welcome to /r/depression's check-in post - a p...</td>\n",
       "      <td>Regular Check-In Post</td>\n",
       "      <td>1.549392e+09</td>\n",
       "    </tr>\n",
       "    <tr>\n",
       "      <th>2</th>\n",
       "      <td>depression</td>\n",
       "      <td>I’m going to the movies. I’m so nervous…</td>\n",
       "      <td>I’m willingly leaving my house for the first t...</td>\n",
       "      <td>1.562121e+09</td>\n",
       "    </tr>\n",
       "    <tr>\n",
       "      <th>3</th>\n",
       "      <td>depression</td>\n",
       "      <td>Now i can save so i can get myself out of this...</td>\n",
       "      <td>i finally got a job</td>\n",
       "      <td>1.562151e+09</td>\n",
       "    </tr>\n",
       "    <tr>\n",
       "      <th>4</th>\n",
       "      <td>depression</td>\n",
       "      <td>I always do this. I’ll stay up until the wee h...</td>\n",
       "      <td>Does anyone else stay up super late to avoid b...</td>\n",
       "      <td>1.562147e+09</td>\n",
       "    </tr>\n",
       "  </tbody>\n",
       "</table>\n",
       "</div>"
      ],
      "text/plain": [
       "    subreddit                                           selftext  \\\n",
       "0  depression  We know that September 10 was World Suicide Pr...   \n",
       "1  depression  Welcome to /r/depression's check-in post - a p...   \n",
       "2  depression           I’m going to the movies. I’m so nervous…   \n",
       "3  depression  Now i can save so i can get myself out of this...   \n",
       "4  depression  I always do this. I’ll stay up until the wee h...   \n",
       "\n",
       "                                               title   created_utc  \n",
       "0  Reminder: NO ACTIVISM is allowed here at any t...  1.536613e+09  \n",
       "1                              Regular Check-In Post  1.549392e+09  \n",
       "2  I’m willingly leaving my house for the first t...  1.562121e+09  \n",
       "3                                i finally got a job  1.562151e+09  \n",
       "4  Does anyone else stay up super late to avoid b...  1.562147e+09  "
      ]
     },
     "execution_count": 21,
     "metadata": {},
     "output_type": "execute_result"
    }
   ],
   "source": [
    "unique_depression.head()"
   ]
  },
  {
   "cell_type": "code",
   "execution_count": 22,
   "metadata": {},
   "outputs": [
    {
     "data": {
      "text/plain": [
       "(923, 4)"
      ]
     },
     "execution_count": 22,
     "metadata": {},
     "output_type": "execute_result"
    }
   ],
   "source": [
    "unique_depression.shape"
   ]
  },
  {
   "cell_type": "code",
   "execution_count": 23,
   "metadata": {},
   "outputs": [],
   "source": [
    "#creating unique depression df\n",
    "unique_depression.to_csv('./datasets/unique_depression.csv')"
   ]
  },
  {
   "cell_type": "code",
   "execution_count": null,
   "metadata": {},
   "outputs": [],
   "source": []
  }
 ],
 "metadata": {
  "kernelspec": {
   "display_name": "Python 3",
   "language": "python",
   "name": "python3"
  },
  "language_info": {
   "codemirror_mode": {
    "name": "ipython",
    "version": 3
   },
   "file_extension": ".py",
   "mimetype": "text/x-python",
   "name": "python",
   "nbconvert_exporter": "python",
   "pygments_lexer": "ipython3",
   "version": "3.7.1"
  }
 },
 "nbformat": 4,
 "nbformat_minor": 2
}
