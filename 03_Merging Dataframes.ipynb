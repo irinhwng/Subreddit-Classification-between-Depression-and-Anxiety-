{
 "cells": [
  {
   "cell_type": "markdown",
   "metadata": {},
   "source": [
    "# Objective\n",
    "- Merge both dataframes and change subreddit column to binary since it's our target variable "
   ]
  },
  {
   "cell_type": "code",
   "execution_count": 1,
   "metadata": {},
   "outputs": [],
   "source": [
    "import pandas as pd"
   ]
  },
  {
   "cell_type": "code",
   "execution_count": 2,
   "metadata": {},
   "outputs": [],
   "source": [
    "#reading anxiety\n",
    "anxiety = pd.read_csv('./datasets/unique_anxiety.csv')"
   ]
  },
  {
   "cell_type": "code",
   "execution_count": 3,
   "metadata": {},
   "outputs": [],
   "source": [
    "#reading depression\n",
    "depression = pd.read_csv('./datasets/unique_depression.csv')"
   ]
  },
  {
   "cell_type": "markdown",
   "metadata": {},
   "source": [
    "### Let's merge selftext and title for Anxiety"
   ]
  },
  {
   "cell_type": "code",
   "execution_count": 4,
   "metadata": {},
   "outputs": [
    {
     "data": {
      "text/plain": [
       "(970, 5)"
      ]
     },
     "execution_count": 4,
     "metadata": {},
     "output_type": "execute_result"
    }
   ],
   "source": [
    "anxiety.shape"
   ]
  },
  {
   "cell_type": "code",
   "execution_count": 5,
   "metadata": {},
   "outputs": [
    {
     "data": {
      "text/html": [
       "<div>\n",
       "<style scoped>\n",
       "    .dataframe tbody tr th:only-of-type {\n",
       "        vertical-align: middle;\n",
       "    }\n",
       "\n",
       "    .dataframe tbody tr th {\n",
       "        vertical-align: top;\n",
       "    }\n",
       "\n",
       "    .dataframe thead th {\n",
       "        text-align: right;\n",
       "    }\n",
       "</style>\n",
       "<table border=\"1\" class=\"dataframe\">\n",
       "  <thead>\n",
       "    <tr style=\"text-align: right;\">\n",
       "      <th></th>\n",
       "      <th>Unnamed: 0</th>\n",
       "      <th>subreddit</th>\n",
       "      <th>selftext</th>\n",
       "      <th>title</th>\n",
       "      <th>created_utc</th>\n",
       "    </tr>\n",
       "  </thead>\n",
       "  <tbody>\n",
       "    <tr>\n",
       "      <th>0</th>\n",
       "      <td>0</td>\n",
       "      <td>Anxiety</td>\n",
       "      <td>Greetings /r/Anxiety,\\n\\n\\nI apologize for the...</td>\n",
       "      <td>CBD Megathread (June 2019)</td>\n",
       "      <td>1.560125e+09</td>\n",
       "    </tr>\n",
       "    <tr>\n",
       "      <th>1</th>\n",
       "      <td>1</td>\n",
       "      <td>Anxiety</td>\n",
       "      <td>What have you accomplished this week? Share yo...</td>\n",
       "      <td>Wednesday Wins - July 03, 2019</td>\n",
       "      <td>1.562156e+09</td>\n",
       "    </tr>\n",
       "    <tr>\n",
       "      <th>2</th>\n",
       "      <td>2</td>\n",
       "      <td>Anxiety</td>\n",
       "      <td>I GOT AN OFFER!!!!!!\\n\\nI went back to pessimi...</td>\n",
       "      <td>[UPDATE] after almost canceling a job intervie...</td>\n",
       "      <td>1.562108e+09</td>\n",
       "    </tr>\n",
       "    <tr>\n",
       "      <th>3</th>\n",
       "      <td>3</td>\n",
       "      <td>Anxiety</td>\n",
       "      <td>i have severe anxiety and it is really difficu...</td>\n",
       "      <td>i went to a bookstore and got a coffee by myse...</td>\n",
       "      <td>1.562172e+09</td>\n",
       "    </tr>\n",
       "    <tr>\n",
       "      <th>4</th>\n",
       "      <td>4</td>\n",
       "      <td>Anxiety</td>\n",
       "      <td>This may seem like a small victory or just com...</td>\n",
       "      <td>I just managed to shift from a heart rate of 1...</td>\n",
       "      <td>1.562172e+09</td>\n",
       "    </tr>\n",
       "  </tbody>\n",
       "</table>\n",
       "</div>"
      ],
      "text/plain": [
       "   Unnamed: 0 subreddit                                           selftext  \\\n",
       "0           0   Anxiety  Greetings /r/Anxiety,\\n\\n\\nI apologize for the...   \n",
       "1           1   Anxiety  What have you accomplished this week? Share yo...   \n",
       "2           2   Anxiety  I GOT AN OFFER!!!!!!\\n\\nI went back to pessimi...   \n",
       "3           3   Anxiety  i have severe anxiety and it is really difficu...   \n",
       "4           4   Anxiety  This may seem like a small victory or just com...   \n",
       "\n",
       "                                               title   created_utc  \n",
       "0                         CBD Megathread (June 2019)  1.560125e+09  \n",
       "1                     Wednesday Wins - July 03, 2019  1.562156e+09  \n",
       "2  [UPDATE] after almost canceling a job intervie...  1.562108e+09  \n",
       "3  i went to a bookstore and got a coffee by myse...  1.562172e+09  \n",
       "4  I just managed to shift from a heart rate of 1...  1.562172e+09  "
      ]
     },
     "execution_count": 5,
     "metadata": {},
     "output_type": "execute_result"
    }
   ],
   "source": [
    "anxiety.head()"
   ]
  },
  {
   "cell_type": "code",
   "execution_count": 6,
   "metadata": {},
   "outputs": [],
   "source": [
    "#lets gather selftext and title since we're only analyzing words \n",
    "anxiety['text'] = anxiety['selftext'] +  ' ' + anxiety['title']"
   ]
  },
  {
   "cell_type": "code",
   "execution_count": 7,
   "metadata": {},
   "outputs": [
    {
     "data": {
      "text/plain": [
       "\"Greetings /r/Anxiety,\\n\\n\\nI apologize for the lack of a CBD megathread the past few months. We're going to start doing these again. A majority of you still wish to discuss CBD on the subreddit. Please keep in mind that we are a subreddit primarily for discussion and support for anxiety, and if you have certain questions that can't be answered here check out /r/CBD.\\n\\n\\n\\n\\n\\n\\n\\n\\n**Ground Rules:**\\n\\n* Do not prescribe, or recommend CBD as a treatment. You should consult with your doctor about any treatment for a medical condition (i.e. anxiety and panic disorder). Discussion of experiences is fine, influencing others to use this substance with little research is not.\\n* Do not promote brands, while discussion about your experience with certain brands will be allowed we do not want to see anyone pushing a brand regardless of intent.\\n* Do not ask or tell where to buy. The legality of this substance is grey in many parts of the world. CBD Megathread (June 2019)\""
      ]
     },
     "execution_count": 7,
     "metadata": {},
     "output_type": "execute_result"
    }
   ],
   "source": [
    "anxiety['text'][0]"
   ]
  },
  {
   "cell_type": "markdown",
   "metadata": {},
   "source": [
    "### Let's merge selftext and title for Depression"
   ]
  },
  {
   "cell_type": "code",
   "execution_count": 8,
   "metadata": {},
   "outputs": [
    {
     "data": {
      "text/plain": [
       "(923, 5)"
      ]
     },
     "execution_count": 8,
     "metadata": {},
     "output_type": "execute_result"
    }
   ],
   "source": [
    "depression.shape"
   ]
  },
  {
   "cell_type": "code",
   "execution_count": 9,
   "metadata": {},
   "outputs": [],
   "source": [
    "#lets gather selftext and title since we're only analyzing words \n",
    "depression['text'] = depression['selftext'] +  ' ' + depression['title']"
   ]
  },
  {
   "cell_type": "code",
   "execution_count": 10,
   "metadata": {},
   "outputs": [
    {
     "data": {
      "text/plain": [
       "\"We know that September 10 was World Suicide Prevention Day. And, we're all for activism. But not here, please and thank you. It takes focus away from our OPs in need of support and understanding.  Reminder: NO ACTIVISM is allowed here at any time.\""
      ]
     },
     "execution_count": 10,
     "metadata": {},
     "output_type": "execute_result"
    }
   ],
   "source": [
    "depression['text'][0]"
   ]
  },
  {
   "cell_type": "code",
   "execution_count": 11,
   "metadata": {},
   "outputs": [
    {
     "data": {
      "text/html": [
       "<div>\n",
       "<style scoped>\n",
       "    .dataframe tbody tr th:only-of-type {\n",
       "        vertical-align: middle;\n",
       "    }\n",
       "\n",
       "    .dataframe tbody tr th {\n",
       "        vertical-align: top;\n",
       "    }\n",
       "\n",
       "    .dataframe thead th {\n",
       "        text-align: right;\n",
       "    }\n",
       "</style>\n",
       "<table border=\"1\" class=\"dataframe\">\n",
       "  <thead>\n",
       "    <tr style=\"text-align: right;\">\n",
       "      <th></th>\n",
       "      <th>Unnamed: 0</th>\n",
       "      <th>subreddit</th>\n",
       "      <th>selftext</th>\n",
       "      <th>title</th>\n",
       "      <th>created_utc</th>\n",
       "      <th>text</th>\n",
       "    </tr>\n",
       "  </thead>\n",
       "  <tbody>\n",
       "    <tr>\n",
       "      <th>0</th>\n",
       "      <td>0</td>\n",
       "      <td>depression</td>\n",
       "      <td>We know that September 10 was World Suicide Pr...</td>\n",
       "      <td>Reminder: NO ACTIVISM is allowed here at any t...</td>\n",
       "      <td>1.536613e+09</td>\n",
       "      <td>We know that September 10 was World Suicide Pr...</td>\n",
       "    </tr>\n",
       "    <tr>\n",
       "      <th>1</th>\n",
       "      <td>1</td>\n",
       "      <td>depression</td>\n",
       "      <td>Welcome to /r/depression's check-in post - a p...</td>\n",
       "      <td>Regular Check-In Post</td>\n",
       "      <td>1.549392e+09</td>\n",
       "      <td>Welcome to /r/depression's check-in post - a p...</td>\n",
       "    </tr>\n",
       "    <tr>\n",
       "      <th>2</th>\n",
       "      <td>2</td>\n",
       "      <td>depression</td>\n",
       "      <td>I’m going to the movies. I’m so nervous…</td>\n",
       "      <td>I’m willingly leaving my house for the first t...</td>\n",
       "      <td>1.562121e+09</td>\n",
       "      <td>I’m going to the movies. I’m so nervous… I’m w...</td>\n",
       "    </tr>\n",
       "    <tr>\n",
       "      <th>3</th>\n",
       "      <td>3</td>\n",
       "      <td>depression</td>\n",
       "      <td>Now i can save so i can get myself out of this...</td>\n",
       "      <td>i finally got a job</td>\n",
       "      <td>1.562151e+09</td>\n",
       "      <td>Now i can save so i can get myself out of this...</td>\n",
       "    </tr>\n",
       "    <tr>\n",
       "      <th>4</th>\n",
       "      <td>4</td>\n",
       "      <td>depression</td>\n",
       "      <td>I always do this. I’ll stay up until the wee h...</td>\n",
       "      <td>Does anyone else stay up super late to avoid b...</td>\n",
       "      <td>1.562147e+09</td>\n",
       "      <td>I always do this. I’ll stay up until the wee h...</td>\n",
       "    </tr>\n",
       "  </tbody>\n",
       "</table>\n",
       "</div>"
      ],
      "text/plain": [
       "   Unnamed: 0   subreddit                                           selftext  \\\n",
       "0           0  depression  We know that September 10 was World Suicide Pr...   \n",
       "1           1  depression  Welcome to /r/depression's check-in post - a p...   \n",
       "2           2  depression           I’m going to the movies. I’m so nervous…   \n",
       "3           3  depression  Now i can save so i can get myself out of this...   \n",
       "4           4  depression  I always do this. I’ll stay up until the wee h...   \n",
       "\n",
       "                                               title   created_utc  \\\n",
       "0  Reminder: NO ACTIVISM is allowed here at any t...  1.536613e+09   \n",
       "1                              Regular Check-In Post  1.549392e+09   \n",
       "2  I’m willingly leaving my house for the first t...  1.562121e+09   \n",
       "3                                i finally got a job  1.562151e+09   \n",
       "4  Does anyone else stay up super late to avoid b...  1.562147e+09   \n",
       "\n",
       "                                                text  \n",
       "0  We know that September 10 was World Suicide Pr...  \n",
       "1  Welcome to /r/depression's check-in post - a p...  \n",
       "2  I’m going to the movies. I’m so nervous… I’m w...  \n",
       "3  Now i can save so i can get myself out of this...  \n",
       "4  I always do this. I’ll stay up until the wee h...  "
      ]
     },
     "execution_count": 11,
     "metadata": {},
     "output_type": "execute_result"
    }
   ],
   "source": [
    "depression.head()"
   ]
  },
  {
   "cell_type": "markdown",
   "metadata": {},
   "source": [
    "### For each dataframe, let's get `subreddit` and `text` in order to merge depression and anxiety"
   ]
  },
  {
   "cell_type": "code",
   "execution_count": 12,
   "metadata": {},
   "outputs": [
    {
     "data": {
      "text/html": [
       "<div>\n",
       "<style scoped>\n",
       "    .dataframe tbody tr th:only-of-type {\n",
       "        vertical-align: middle;\n",
       "    }\n",
       "\n",
       "    .dataframe tbody tr th {\n",
       "        vertical-align: top;\n",
       "    }\n",
       "\n",
       "    .dataframe thead th {\n",
       "        text-align: right;\n",
       "    }\n",
       "</style>\n",
       "<table border=\"1\" class=\"dataframe\">\n",
       "  <thead>\n",
       "    <tr style=\"text-align: right;\">\n",
       "      <th></th>\n",
       "      <th>subreddit</th>\n",
       "      <th>text</th>\n",
       "    </tr>\n",
       "  </thead>\n",
       "  <tbody>\n",
       "    <tr>\n",
       "      <th>0</th>\n",
       "      <td>depression</td>\n",
       "      <td>We know that September 10 was World Suicide Pr...</td>\n",
       "    </tr>\n",
       "    <tr>\n",
       "      <th>1</th>\n",
       "      <td>depression</td>\n",
       "      <td>Welcome to /r/depression's check-in post - a p...</td>\n",
       "    </tr>\n",
       "    <tr>\n",
       "      <th>2</th>\n",
       "      <td>depression</td>\n",
       "      <td>I’m going to the movies. I’m so nervous… I’m w...</td>\n",
       "    </tr>\n",
       "    <tr>\n",
       "      <th>3</th>\n",
       "      <td>depression</td>\n",
       "      <td>Now i can save so i can get myself out of this...</td>\n",
       "    </tr>\n",
       "    <tr>\n",
       "      <th>4</th>\n",
       "      <td>depression</td>\n",
       "      <td>I always do this. I’ll stay up until the wee h...</td>\n",
       "    </tr>\n",
       "  </tbody>\n",
       "</table>\n",
       "</div>"
      ],
      "text/plain": [
       "    subreddit                                               text\n",
       "0  depression  We know that September 10 was World Suicide Pr...\n",
       "1  depression  Welcome to /r/depression's check-in post - a p...\n",
       "2  depression  I’m going to the movies. I’m so nervous… I’m w...\n",
       "3  depression  Now i can save so i can get myself out of this...\n",
       "4  depression  I always do this. I’ll stay up until the wee h..."
      ]
     },
     "execution_count": 12,
     "metadata": {},
     "output_type": "execute_result"
    }
   ],
   "source": [
    "#depression\n",
    "depression_features = ['subreddit', 'text']\n",
    "depression_2 = depression[depression_features]\n",
    "depression_2.head()"
   ]
  },
  {
   "cell_type": "code",
   "execution_count": 13,
   "metadata": {},
   "outputs": [
    {
     "data": {
      "text/plain": [
       "(923, 2)"
      ]
     },
     "execution_count": 13,
     "metadata": {},
     "output_type": "execute_result"
    }
   ],
   "source": [
    "depression_2.shape"
   ]
  },
  {
   "cell_type": "code",
   "execution_count": 14,
   "metadata": {},
   "outputs": [
    {
     "data": {
      "text/html": [
       "<div>\n",
       "<style scoped>\n",
       "    .dataframe tbody tr th:only-of-type {\n",
       "        vertical-align: middle;\n",
       "    }\n",
       "\n",
       "    .dataframe tbody tr th {\n",
       "        vertical-align: top;\n",
       "    }\n",
       "\n",
       "    .dataframe thead th {\n",
       "        text-align: right;\n",
       "    }\n",
       "</style>\n",
       "<table border=\"1\" class=\"dataframe\">\n",
       "  <thead>\n",
       "    <tr style=\"text-align: right;\">\n",
       "      <th></th>\n",
       "      <th>subreddit</th>\n",
       "      <th>text</th>\n",
       "    </tr>\n",
       "  </thead>\n",
       "  <tbody>\n",
       "    <tr>\n",
       "      <th>0</th>\n",
       "      <td>Anxiety</td>\n",
       "      <td>Greetings /r/Anxiety,\\n\\n\\nI apologize for the...</td>\n",
       "    </tr>\n",
       "    <tr>\n",
       "      <th>1</th>\n",
       "      <td>Anxiety</td>\n",
       "      <td>What have you accomplished this week? Share yo...</td>\n",
       "    </tr>\n",
       "    <tr>\n",
       "      <th>2</th>\n",
       "      <td>Anxiety</td>\n",
       "      <td>I GOT AN OFFER!!!!!!\\n\\nI went back to pessimi...</td>\n",
       "    </tr>\n",
       "    <tr>\n",
       "      <th>3</th>\n",
       "      <td>Anxiety</td>\n",
       "      <td>i have severe anxiety and it is really difficu...</td>\n",
       "    </tr>\n",
       "    <tr>\n",
       "      <th>4</th>\n",
       "      <td>Anxiety</td>\n",
       "      <td>This may seem like a small victory or just com...</td>\n",
       "    </tr>\n",
       "  </tbody>\n",
       "</table>\n",
       "</div>"
      ],
      "text/plain": [
       "  subreddit                                               text\n",
       "0   Anxiety  Greetings /r/Anxiety,\\n\\n\\nI apologize for the...\n",
       "1   Anxiety  What have you accomplished this week? Share yo...\n",
       "2   Anxiety  I GOT AN OFFER!!!!!!\\n\\nI went back to pessimi...\n",
       "3   Anxiety  i have severe anxiety and it is really difficu...\n",
       "4   Anxiety  This may seem like a small victory or just com..."
      ]
     },
     "execution_count": 14,
     "metadata": {},
     "output_type": "execute_result"
    }
   ],
   "source": [
    "#anxiety\n",
    "anxiety_features = ['subreddit', 'text']\n",
    "anxiety_2 = anxiety[anxiety_features]\n",
    "anxiety_2.head()"
   ]
  },
  {
   "cell_type": "code",
   "execution_count": 15,
   "metadata": {},
   "outputs": [
    {
     "data": {
      "text/plain": [
       "(970, 2)"
      ]
     },
     "execution_count": 15,
     "metadata": {},
     "output_type": "execute_result"
    }
   ],
   "source": [
    "anxiety_2.shape"
   ]
  },
  {
   "cell_type": "markdown",
   "metadata": {},
   "source": [
    "## Time to merge both data frames"
   ]
  },
  {
   "cell_type": "code",
   "execution_count": 16,
   "metadata": {},
   "outputs": [],
   "source": [
    "frames = [depression_2, anxiety_2]\n",
    "\n",
    "df = pd.concat(frames)"
   ]
  },
  {
   "cell_type": "code",
   "execution_count": 17,
   "metadata": {},
   "outputs": [
    {
     "data": {
      "text/plain": [
       "(1893, 2)"
      ]
     },
     "execution_count": 17,
     "metadata": {},
     "output_type": "execute_result"
    }
   ],
   "source": [
    "df.shape"
   ]
  },
  {
   "cell_type": "code",
   "execution_count": 18,
   "metadata": {},
   "outputs": [
    {
     "data": {
      "text/html": [
       "<div>\n",
       "<style scoped>\n",
       "    .dataframe tbody tr th:only-of-type {\n",
       "        vertical-align: middle;\n",
       "    }\n",
       "\n",
       "    .dataframe tbody tr th {\n",
       "        vertical-align: top;\n",
       "    }\n",
       "\n",
       "    .dataframe thead th {\n",
       "        text-align: right;\n",
       "    }\n",
       "</style>\n",
       "<table border=\"1\" class=\"dataframe\">\n",
       "  <thead>\n",
       "    <tr style=\"text-align: right;\">\n",
       "      <th></th>\n",
       "      <th>subreddit</th>\n",
       "      <th>text</th>\n",
       "    </tr>\n",
       "  </thead>\n",
       "  <tbody>\n",
       "    <tr>\n",
       "      <th>0</th>\n",
       "      <td>depression</td>\n",
       "      <td>We know that September 10 was World Suicide Pr...</td>\n",
       "    </tr>\n",
       "    <tr>\n",
       "      <th>1</th>\n",
       "      <td>depression</td>\n",
       "      <td>Welcome to /r/depression's check-in post - a p...</td>\n",
       "    </tr>\n",
       "    <tr>\n",
       "      <th>2</th>\n",
       "      <td>depression</td>\n",
       "      <td>I’m going to the movies. I’m so nervous… I’m w...</td>\n",
       "    </tr>\n",
       "    <tr>\n",
       "      <th>3</th>\n",
       "      <td>depression</td>\n",
       "      <td>Now i can save so i can get myself out of this...</td>\n",
       "    </tr>\n",
       "    <tr>\n",
       "      <th>4</th>\n",
       "      <td>depression</td>\n",
       "      <td>I always do this. I’ll stay up until the wee h...</td>\n",
       "    </tr>\n",
       "  </tbody>\n",
       "</table>\n",
       "</div>"
      ],
      "text/plain": [
       "    subreddit                                               text\n",
       "0  depression  We know that September 10 was World Suicide Pr...\n",
       "1  depression  Welcome to /r/depression's check-in post - a p...\n",
       "2  depression  I’m going to the movies. I’m so nervous… I’m w...\n",
       "3  depression  Now i can save so i can get myself out of this...\n",
       "4  depression  I always do this. I’ll stay up until the wee h..."
      ]
     },
     "execution_count": 18,
     "metadata": {},
     "output_type": "execute_result"
    }
   ],
   "source": [
    "df.head()"
   ]
  },
  {
   "cell_type": "code",
   "execution_count": 19,
   "metadata": {},
   "outputs": [
    {
     "data": {
      "text/plain": [
       "subreddit    0\n",
       "text         2\n",
       "dtype: int64"
      ]
     },
     "execution_count": 19,
     "metadata": {},
     "output_type": "execute_result"
    }
   ],
   "source": [
    "df.isnull().sum()"
   ]
  },
  {
   "cell_type": "code",
   "execution_count": 20,
   "metadata": {},
   "outputs": [],
   "source": [
    "df.dropna(axis = 0, inplace = True)"
   ]
  },
  {
   "cell_type": "code",
   "execution_count": 21,
   "metadata": {},
   "outputs": [
    {
     "data": {
      "text/plain": [
       "(1891, 2)"
      ]
     },
     "execution_count": 21,
     "metadata": {},
     "output_type": "execute_result"
    }
   ],
   "source": [
    "df.shape"
   ]
  },
  {
   "cell_type": "code",
   "execution_count": 22,
   "metadata": {},
   "outputs": [
    {
     "data": {
      "text/plain": [
       "subreddit    0\n",
       "text         0\n",
       "dtype: int64"
      ]
     },
     "execution_count": 22,
     "metadata": {},
     "output_type": "execute_result"
    }
   ],
   "source": [
    "df.isnull().sum()"
   ]
  },
  {
   "cell_type": "code",
   "execution_count": 23,
   "metadata": {},
   "outputs": [
    {
     "data": {
      "text/plain": [
       "Anxiety       969\n",
       "depression    922\n",
       "Name: subreddit, dtype: int64"
      ]
     },
     "execution_count": 23,
     "metadata": {},
     "output_type": "execute_result"
    }
   ],
   "source": [
    "df['subreddit'].value_counts()"
   ]
  },
  {
   "cell_type": "markdown",
   "metadata": {},
   "source": [
    "## Our df has non null values and contains both subreddits\n",
    "- Let's make depression = 1 and anxiety = 0\n",
    "- We'll export it as a csv called df.csv"
   ]
  },
  {
   "cell_type": "code",
   "execution_count": 24,
   "metadata": {},
   "outputs": [
    {
     "data": {
      "text/html": [
       "<div>\n",
       "<style scoped>\n",
       "    .dataframe tbody tr th:only-of-type {\n",
       "        vertical-align: middle;\n",
       "    }\n",
       "\n",
       "    .dataframe tbody tr th {\n",
       "        vertical-align: top;\n",
       "    }\n",
       "\n",
       "    .dataframe thead th {\n",
       "        text-align: right;\n",
       "    }\n",
       "</style>\n",
       "<table border=\"1\" class=\"dataframe\">\n",
       "  <thead>\n",
       "    <tr style=\"text-align: right;\">\n",
       "      <th></th>\n",
       "      <th>subreddit</th>\n",
       "      <th>text</th>\n",
       "    </tr>\n",
       "  </thead>\n",
       "  <tbody>\n",
       "    <tr>\n",
       "      <th>0</th>\n",
       "      <td>depression</td>\n",
       "      <td>We know that September 10 was World Suicide Pr...</td>\n",
       "    </tr>\n",
       "    <tr>\n",
       "      <th>1</th>\n",
       "      <td>depression</td>\n",
       "      <td>Welcome to /r/depression's check-in post - a p...</td>\n",
       "    </tr>\n",
       "    <tr>\n",
       "      <th>2</th>\n",
       "      <td>depression</td>\n",
       "      <td>I’m going to the movies. I’m so nervous… I’m w...</td>\n",
       "    </tr>\n",
       "    <tr>\n",
       "      <th>3</th>\n",
       "      <td>depression</td>\n",
       "      <td>Now i can save so i can get myself out of this...</td>\n",
       "    </tr>\n",
       "    <tr>\n",
       "      <th>4</th>\n",
       "      <td>depression</td>\n",
       "      <td>I always do this. I’ll stay up until the wee h...</td>\n",
       "    </tr>\n",
       "  </tbody>\n",
       "</table>\n",
       "</div>"
      ],
      "text/plain": [
       "    subreddit                                               text\n",
       "0  depression  We know that September 10 was World Suicide Pr...\n",
       "1  depression  Welcome to /r/depression's check-in post - a p...\n",
       "2  depression  I’m going to the movies. I’m so nervous… I’m w...\n",
       "3  depression  Now i can save so i can get myself out of this...\n",
       "4  depression  I always do this. I’ll stay up until the wee h..."
      ]
     },
     "execution_count": 24,
     "metadata": {},
     "output_type": "execute_result"
    }
   ],
   "source": [
    "df.head()"
   ]
  },
  {
   "cell_type": "code",
   "execution_count": 25,
   "metadata": {},
   "outputs": [],
   "source": [
    "#changing sbreddit column to binary variable \n",
    "df['subreddit'] = df['subreddit'].map({'depression': 1, 'Anxiety': 0})"
   ]
  },
  {
   "cell_type": "code",
   "execution_count": 26,
   "metadata": {},
   "outputs": [
    {
     "data": {
      "text/html": [
       "<div>\n",
       "<style scoped>\n",
       "    .dataframe tbody tr th:only-of-type {\n",
       "        vertical-align: middle;\n",
       "    }\n",
       "\n",
       "    .dataframe tbody tr th {\n",
       "        vertical-align: top;\n",
       "    }\n",
       "\n",
       "    .dataframe thead th {\n",
       "        text-align: right;\n",
       "    }\n",
       "</style>\n",
       "<table border=\"1\" class=\"dataframe\">\n",
       "  <thead>\n",
       "    <tr style=\"text-align: right;\">\n",
       "      <th></th>\n",
       "      <th>subreddit</th>\n",
       "      <th>text</th>\n",
       "    </tr>\n",
       "  </thead>\n",
       "  <tbody>\n",
       "    <tr>\n",
       "      <th>0</th>\n",
       "      <td>1</td>\n",
       "      <td>We know that September 10 was World Suicide Pr...</td>\n",
       "    </tr>\n",
       "    <tr>\n",
       "      <th>1</th>\n",
       "      <td>1</td>\n",
       "      <td>Welcome to /r/depression's check-in post - a p...</td>\n",
       "    </tr>\n",
       "    <tr>\n",
       "      <th>2</th>\n",
       "      <td>1</td>\n",
       "      <td>I’m going to the movies. I’m so nervous… I’m w...</td>\n",
       "    </tr>\n",
       "    <tr>\n",
       "      <th>3</th>\n",
       "      <td>1</td>\n",
       "      <td>Now i can save so i can get myself out of this...</td>\n",
       "    </tr>\n",
       "    <tr>\n",
       "      <th>4</th>\n",
       "      <td>1</td>\n",
       "      <td>I always do this. I’ll stay up until the wee h...</td>\n",
       "    </tr>\n",
       "  </tbody>\n",
       "</table>\n",
       "</div>"
      ],
      "text/plain": [
       "   subreddit                                               text\n",
       "0          1  We know that September 10 was World Suicide Pr...\n",
       "1          1  Welcome to /r/depression's check-in post - a p...\n",
       "2          1  I’m going to the movies. I’m so nervous… I’m w...\n",
       "3          1  Now i can save so i can get myself out of this...\n",
       "4          1  I always do this. I’ll stay up until the wee h..."
      ]
     },
     "execution_count": 26,
     "metadata": {},
     "output_type": "execute_result"
    }
   ],
   "source": [
    "df.head()"
   ]
  },
  {
   "cell_type": "code",
   "execution_count": 27,
   "metadata": {},
   "outputs": [
    {
     "data": {
      "text/plain": [
       "0    969\n",
       "1    922\n",
       "Name: subreddit, dtype: int64"
      ]
     },
     "execution_count": 27,
     "metadata": {},
     "output_type": "execute_result"
    }
   ],
   "source": [
    "df['subreddit'].value_counts()"
   ]
  },
  {
   "cell_type": "code",
   "execution_count": 28,
   "metadata": {},
   "outputs": [],
   "source": [
    "df.to_csv('./datasets/df.csv')"
   ]
  },
  {
   "cell_type": "code",
   "execution_count": null,
   "metadata": {},
   "outputs": [],
   "source": []
  }
 ],
 "metadata": {
  "kernelspec": {
   "display_name": "Python 3",
   "language": "python",
   "name": "python3"
  },
  "language_info": {
   "codemirror_mode": {
    "name": "ipython",
    "version": 3
   },
   "file_extension": ".py",
   "mimetype": "text/x-python",
   "name": "python",
   "nbconvert_exporter": "python",
   "pygments_lexer": "ipython3",
   "version": "3.7.1"
  }
 },
 "nbformat": 4,
 "nbformat_minor": 2
}
